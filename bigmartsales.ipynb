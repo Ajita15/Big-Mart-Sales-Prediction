{
 "cells": [
  {
   "cell_type": "code",
   "execution_count": 1,
   "metadata": {
    "collapsed": false,
    "nbpresent": {
     "id": "cdc3dbcd-8653-447c-b057-7a36d60f1e88"
    }
   },
   "outputs": [
    {
     "name": "stderr",
     "output_type": "stream",
     "text": [
      "/home/ajita/anaconda3/lib/python3.5/site-packages/sklearn/cross_validation.py:41: DeprecationWarning: This module was deprecated in version 0.18 in favor of the model_selection module into which all the refactored classes and functions are moved. Also note that the interface of the new CV iterators are different from that of this module. This module will be removed in 0.20.\n",
      "  \"This module will be removed in 0.20.\", DeprecationWarning)\n"
     ]
    }
   ],
   "source": [
    "import numpy as np\n",
    "import matplotlib.pyplot as plt\n",
    "import pandas as pd\n",
    "import seaborn as sns\n",
    "from sklearn.preprocessing import LabelEncoder\n",
    "from sklearn.linear_model import LogisticRegression\n",
    "from sklearn.cross_validation import KFold  #For K-fold cross validation\n",
    "from sklearn.ensemble import RandomForestClassifier\n",
    "from sklearn.tree import DecisionTreeClassifier, export_graphviz\n",
    "from sklearn import metrics\n",
    "from sklearn.naive_bayes import GaussianNB\n",
    "from sklearn.neighbors import KNeighborsClassifier\n",
    "import tensorflow as tf\n",
    "from sklearn.model_selection import train_test_split\n",
    "%matplotlib inline"
   ]
  },
  {
   "cell_type": "code",
   "execution_count": 2,
   "metadata": {
    "collapsed": false,
    "nbpresent": {
     "id": "38618a8b-d907-4f21-b252-5b792e762e0b"
    },
    "scrolled": true
   },
   "outputs": [
    {
     "name": "stdout",
     "output_type": "stream",
     "text": [
      "(8523, 12)\n"
     ]
    }
   ],
   "source": [
    "train_df=pd.read_csv(\"/home/ajita/Documents/AnlytcsVidyaML/bigmartsales/Train_UWu5bXk.csv\")\n",
    "print(train_df.shape)\n",
    "#print(train_df.info())\n",
    "#print(train_df.describe())\n",
    "#print(train_df.head(5))\n",
    "#print(train_df.tail(5))"
   ]
  },
  {
   "cell_type": "code",
   "execution_count": 3,
   "metadata": {
    "collapsed": false,
    "nbpresent": {
     "id": "b768eadf-c7dd-49aa-b669-ae3576904436"
    }
   },
   "outputs": [
    {
     "name": "stdout",
     "output_type": "stream",
     "text": [
      "(5681, 11)\n"
     ]
    }
   ],
   "source": [
    "test_df=pd.read_csv(\"/home/ajita/Documents/AnlytcsVidyaML/bigmartsales/Test_u94Q5KV.csv\")\n",
    "print(test_df.shape)"
   ]
  },
  {
   "cell_type": "code",
   "execution_count": 4,
   "metadata": {
    "collapsed": false,
    "nbpresent": {
     "id": "7eada09c-5044-41e5-b625-f004b6cf88e1"
    },
    "scrolled": true
   },
   "outputs": [
    {
     "name": "stdout",
     "output_type": "stream",
     "text": [
      "      Item_Fat_Content Item_Identifier  Item_MRP  Item_Outlet_Sales  \\\n",
      "14199          Regular           FDB58  141.3154                NaN   \n",
      "14200          Regular           FDD47  169.1448                NaN   \n",
      "14201          Low Fat           NCO17  118.7440                NaN   \n",
      "14202          Regular           FDJ26  214.6218                NaN   \n",
      "14203          Regular           FDU37   79.7960                NaN   \n",
      "\n",
      "                Item_Type  Item_Visibility  Item_Weight  \\\n",
      "14199         Snack Foods         0.013496         10.5   \n",
      "14200       Starchy Foods         0.142991          7.6   \n",
      "14201  Health and Hygiene         0.073529         10.0   \n",
      "14202              Canned         0.000000         15.3   \n",
      "14203              Canned         0.104720          9.5   \n",
      "\n",
      "       Outlet_Establishment_Year Outlet_Identifier Outlet_Location_Type  \\\n",
      "14199                       1997            OUT046               Tier 1   \n",
      "14200                       2009            OUT018               Tier 3   \n",
      "14201                       2002            OUT045               Tier 2   \n",
      "14202                       2007            OUT017               Tier 2   \n",
      "14203                       2002            OUT045               Tier 2   \n",
      "\n",
      "      Outlet_Size        Outlet_Type Source  \n",
      "14199       Small  Supermarket Type1   test  \n",
      "14200      Medium  Supermarket Type2   test  \n",
      "14201         NaN  Supermarket Type1   test  \n",
      "14202         NaN  Supermarket Type1   test  \n",
      "14203         NaN  Supermarket Type1   test  \n",
      "(14204, 13)\n",
      "<class 'pandas.core.frame.DataFrame'>\n",
      "RangeIndex: 14204 entries, 0 to 14203\n",
      "Data columns (total 13 columns):\n",
      "Item_Fat_Content             14204 non-null object\n",
      "Item_Identifier              14204 non-null object\n",
      "Item_MRP                     14204 non-null float64\n",
      "Item_Outlet_Sales            8523 non-null float64\n",
      "Item_Type                    14204 non-null object\n",
      "Item_Visibility              14204 non-null float64\n",
      "Item_Weight                  11765 non-null float64\n",
      "Outlet_Establishment_Year    14204 non-null int64\n",
      "Outlet_Identifier            14204 non-null object\n",
      "Outlet_Location_Type         14204 non-null object\n",
      "Outlet_Size                  10188 non-null object\n",
      "Outlet_Type                  14204 non-null object\n",
      "Source                       14204 non-null object\n",
      "dtypes: float64(4), int64(1), object(8)\n",
      "memory usage: 1.4+ MB\n",
      "None\n",
      "(14204, 1)\n",
      "shape of data : (14204, 14)\n"
     ]
    }
   ],
   "source": [
    "test_df[\"Source\"]='test'\n",
    "train_df[\"Source\"]='train'\n",
    "data_df=pd.concat([train_df,test_df],ignore_index=True)\n",
    "print(data_df.tail(5))\n",
    "print(data_df.shape)\n",
    "print(data_df.info())\n",
    "q=np.arange(0,data_df.shape[0])\n",
    "q=np.reshape(q,(q.shape[0],1))\n",
    "print(q.shape)\n",
    "data_df[\"Index\"]=q\n",
    "print(\"shape of data :\",data_df.shape)\n",
    "#data_df[\"Index\"]=np.arange(0,data_df.shape[0])"
   ]
  },
  {
   "cell_type": "code",
   "execution_count": 5,
   "metadata": {
    "collapsed": false,
    "nbpresent": {
     "id": "392c1eae-bf6b-4ecd-a100-46b6c507bd1a"
    },
    "scrolled": false
   },
   "outputs": [
    {
     "name": "stdout",
     "output_type": "stream",
     "text": [
      "Item_Fat_Content                0\n",
      "Item_Identifier                 0\n",
      "Item_MRP                        0\n",
      "Item_Outlet_Sales            5681\n",
      "Item_Type                       0\n",
      "Item_Visibility                 0\n",
      "Item_Weight                  2439\n",
      "Outlet_Establishment_Year       0\n",
      "Outlet_Identifier               0\n",
      "Outlet_Location_Type            0\n",
      "Outlet_Size                  4016\n",
      "Outlet_Type                     0\n",
      "Source                          0\n",
      "Index                           0\n",
      "dtype: int64\n"
     ]
    }
   ],
   "source": [
    "print(data_df.apply(lambda x:sum(x.isnull()),axis=0))"
   ]
  },
  {
   "cell_type": "code",
   "execution_count": 6,
   "metadata": {
    "collapsed": false,
    "nbpresent": {
     "id": "91164766-4a3d-458b-9cd3-cdfa00e03428"
    },
    "scrolled": false
   },
   "outputs": [
    {
     "name": "stdout",
     "output_type": "stream",
     "text": [
      "           Item_MRP  Item_Outlet_Sales  Item_Visibility   Item_Weight  \\\n",
      "count  14204.000000        8523.000000     14204.000000  11765.000000   \n",
      "mean     141.004977        2181.288914         0.065953     12.792854   \n",
      "std       62.086938        1706.499616         0.051459      4.652502   \n",
      "min       31.290000          33.290000         0.000000      4.555000   \n",
      "25%       94.012000                NaN         0.027036           NaN   \n",
      "50%      142.247000                NaN         0.054021           NaN   \n",
      "75%      185.855600                NaN         0.094037           NaN   \n",
      "max      266.888400       13086.964800         0.328391     21.350000   \n",
      "\n",
      "       Outlet_Establishment_Year         Index  \n",
      "count               14204.000000  14204.000000  \n",
      "mean                 1997.830681   7101.500000  \n",
      "std                     8.371664   4100.485947  \n",
      "min                  1985.000000      0.000000  \n",
      "25%                  1987.000000   3550.750000  \n",
      "50%                  1999.000000   7101.500000  \n",
      "75%                  2004.000000  10652.250000  \n",
      "max                  2009.000000  14203.000000  \n"
     ]
    },
    {
     "name": "stderr",
     "output_type": "stream",
     "text": [
      "/home/ajita/anaconda3/lib/python3.5/site-packages/numpy/lib/function_base.py:4269: RuntimeWarning: Invalid value encountered in percentile\n",
      "  interpolation=interpolation)\n"
     ]
    }
   ],
   "source": [
    "print(data_df.describe())"
   ]
  },
  {
   "cell_type": "markdown",
   "metadata": {
    "nbpresent": {
     "id": "31694afd-28e7-4f11-9ef9-499857f24e4f"
    }
   },
   "source": [
    "The minimum value of \"Item_Visibility\" is 0 which is not possible cause when an item is sold it must have occupied some space in the store."
   ]
  },
  {
   "cell_type": "code",
   "execution_count": 7,
   "metadata": {
    "collapsed": false
   },
   "outputs": [
    {
     "name": "stdout",
     "output_type": "stream",
     "text": [
      "Item_Fat_Content                 5\n",
      "Item_Identifier               1559\n",
      "Item_MRP                      8052\n",
      "Item_Outlet_Sales             3494\n",
      "Item_Type                       16\n",
      "Item_Visibility              13006\n",
      "Item_Weight                    416\n",
      "Outlet_Establishment_Year        9\n",
      "Outlet_Identifier               10\n",
      "Outlet_Location_Type             3\n",
      "Outlet_Size                      4\n",
      "Outlet_Type                      4\n",
      "Source                           2\n",
      "Index                        14204\n",
      "dtype: int64\n"
     ]
    }
   ],
   "source": [
    "\n",
    "print(data_df.apply(lambda x:len(x.unique()),axis=0))"
   ]
  },
  {
   "cell_type": "code",
   "execution_count": 8,
   "metadata": {
    "collapsed": false,
    "scrolled": true
   },
   "outputs": [
    {
     "name": "stdout",
     "output_type": "stream",
     "text": [
      "Frequency of categories in Item_Fat_Content column\n",
      "Low Fat    8485\n",
      "Regular    4824\n",
      "LF          522\n",
      "reg         195\n",
      "low fat     178\n",
      "Name: Item_Fat_Content, dtype: int64\n",
      "Frequency of categories in Item_Type column\n",
      "Fruits and Vegetables    2013\n",
      "Snack Foods              1989\n",
      "Household                1548\n",
      "Frozen Foods             1426\n",
      "Dairy                    1136\n",
      "Baking Goods             1086\n",
      "Canned                   1084\n",
      "Health and Hygiene        858\n",
      "Meat                      736\n",
      "Soft Drinks               726\n",
      "Breads                    416\n",
      "Hard Drinks               362\n",
      "Others                    280\n",
      "Starchy Foods             269\n",
      "Breakfast                 186\n",
      "Seafood                    89\n",
      "Name: Item_Type, dtype: int64\n",
      "Frequency of categories in Outlet_Location_Type column\n",
      "Tier 3    5583\n",
      "Tier 2    4641\n",
      "Tier 1    3980\n",
      "Name: Outlet_Location_Type, dtype: int64\n",
      "Frequency of categories in Outlet_Size column\n",
      "Medium    4655\n",
      "Small     3980\n",
      "High      1553\n",
      "Name: Outlet_Size, dtype: int64\n",
      "Frequency of categories in Outlet_Type column\n",
      "Supermarket Type1    9294\n",
      "Grocery Store        1805\n",
      "Supermarket Type3    1559\n",
      "Supermarket Type2    1546\n",
      "Name: Outlet_Type, dtype: int64\n"
     ]
    }
   ],
   "source": [
    "#filtering categoriacal variables\n",
    "categorical_values=[x for x in data_df.dtypes.index if data_df.dtypes[x]=='object']\n",
    "#filtering unecessary variables\n",
    "categorical_values=[x for x in categorical_values if x not in [\"Item_Identifier\",\"Outlet_Identifier\",\"Source\"]]\n",
    "for cols in categorical_values:\n",
    "    print(\"Frequency of categories in {0} column\".format(cols))\n",
    "    print(data_df[cols].value_counts())"
   ]
  },
  {
   "cell_type": "code",
   "execution_count": 9,
   "metadata": {
    "collapsed": false
   },
   "outputs": [
    {
     "name": "stdout",
     "output_type": "stream",
     "text": [
      "12.792854228644991\n",
      "0\n"
     ]
    }
   ],
   "source": [
    "avg_weight=data_df[\"Item_Weight\"].mean()\n",
    "print(avg_weight)\n",
    "data_df[\"Item_Weight\"]=data_df[\"Item_Weight\"].fillna(avg_weight)\n",
    "print(sum(data_df[\"Item_Weight\"].isnull()))"
   ]
  },
  {
   "cell_type": "code",
   "execution_count": 10,
   "metadata": {
    "collapsed": false,
    "scrolled": true
   },
   "outputs": [
    {
     "data": {
      "text/plain": [
       "<matplotlib.axes._subplots.AxesSubplot at 0x7fcf98afa2b0>"
      ]
     },
     "execution_count": 10,
     "metadata": {},
     "output_type": "execute_result"
    },
    {
     "data": {
      "image/png": "[encoded data removed]",
      "text/plain": [
       "<matplotlib.figure.Figure at 0x7fcf989d6860>"
      ]
     },
     "metadata": {},
     "output_type": "display_data"
    }
   ],
   "source": [
    "sns.countplot(x=\"Outlet_Size\",hue=\"Outlet_Location_Type\",data=data_df)"
   ]
  },
  {
   "cell_type": "code",
   "execution_count": 11,
   "metadata": {
    "collapsed": false
   },
   "outputs": [
    {
     "data": {
      "text/plain": [
       "<matplotlib.axes._subplots.AxesSubplot at 0x7fcf7b563358>"
      ]
     },
     "execution_count": 11,
     "metadata": {},
     "output_type": "execute_result"
    },
    {
     "data": {
      "image/png": "[encoded data removed]",
      "text/plain": [
       "<matplotlib.figure.Figure at 0x7fcf7b571668>"
      ]
     },
     "metadata": {},
     "output_type": "display_data"
    }
   ],
   "source": [
    "sns.countplot(x=\"Outlet_Size\",hue=\"Outlet_Type\",data=data_df)"
   ]
  },
  {
   "cell_type": "code",
   "execution_count": 12,
   "metadata": {
    "collapsed": false,
    "scrolled": true
   },
   "outputs": [
    {
     "name": "stdout",
     "output_type": "stream",
     "text": [
      "      Outlet_Identifier Outlet_Size\n",
      "0                OUT049      Medium\n",
      "1                OUT018      Medium\n",
      "2                OUT049      Medium\n",
      "3                OUT010         NaN\n",
      "4                OUT013        High\n",
      "5                OUT018      Medium\n",
      "6                OUT013        High\n",
      "7                OUT027      Medium\n",
      "8                OUT045         NaN\n",
      "9                OUT017         NaN\n",
      "10               OUT049      Medium\n",
      "11               OUT046       Small\n",
      "12               OUT049      Medium\n",
      "13               OUT046       Small\n",
      "14               OUT013        High\n",
      "15               OUT046       Small\n",
      "16               OUT018      Medium\n",
      "17               OUT049      Medium\n",
      "18               OUT027      Medium\n",
      "19               OUT035       Small\n",
      "20               OUT013        High\n",
      "21               OUT027      Medium\n",
      "22               OUT035       Small\n",
      "23               OUT019       Small\n",
      "24               OUT046       Small\n",
      "25               OUT017         NaN\n",
      "26               OUT035       Small\n",
      "27               OUT013        High\n",
      "28               OUT010         NaN\n",
      "29               OUT019       Small\n",
      "...                 ...         ...\n",
      "14174            OUT013        High\n",
      "14175            OUT045         NaN\n",
      "14176            OUT035       Small\n",
      "14177            OUT013        High\n",
      "14178            OUT027      Medium\n",
      "14179            OUT027      Medium\n",
      "14180            OUT046       Small\n",
      "14181            OUT013        High\n",
      "14182            OUT049      Medium\n",
      "14183            OUT013        High\n",
      "14184            OUT027      Medium\n",
      "14185            OUT017         NaN\n",
      "14186            OUT018      Medium\n",
      "14187            OUT018      Medium\n",
      "14188            OUT027      Medium\n",
      "14189            OUT046       Small\n",
      "14190            OUT046       Small\n",
      "14191            OUT010         NaN\n",
      "14192            OUT027      Medium\n",
      "14193            OUT017         NaN\n",
      "14194            OUT049      Medium\n",
      "14195            OUT049      Medium\n",
      "14196            OUT018      Medium\n",
      "14197            OUT046       Small\n",
      "14198            OUT049      Medium\n",
      "14199            OUT046       Small\n",
      "14200            OUT018      Medium\n",
      "14201            OUT045         NaN\n",
      "14202            OUT017         NaN\n",
      "14203            OUT045         NaN\n",
      "\n",
      "[14204 rows x 2 columns]\n",
      "OUT027    1559\n",
      "OUT013    1553\n",
      "OUT049    1550\n",
      "OUT035    1550\n",
      "OUT046    1550\n",
      "OUT045    1548\n",
      "OUT018    1546\n",
      "OUT017    1543\n",
      "OUT010     925\n",
      "OUT019     880\n",
      "Name: Outlet_Identifier, dtype: int64\n"
     ]
    }
   ],
   "source": [
    "f=data_df[[\"Outlet_Identifier\",\"Outlet_Size\"]]\n",
    "print(f)\n",
    "print(data_df[\"Outlet_Identifier\"].value_counts())"
   ]
  },
  {
   "cell_type": "code",
   "execution_count": 13,
   "metadata": {
    "collapsed": false
   },
   "outputs": [
    {
     "name": "stdout",
     "output_type": "stream",
     "text": [
      "                               Index\n",
      "Outlet_Type       Outlet_Size       \n",
      "Grocery Store     Small          880\n",
      "Supermarket Type1 High          1553\n",
      "                  Medium        1550\n",
      "                  Small         3100\n",
      "Supermarket Type2 Medium        1546\n",
      "Supermarket Type3 Medium        1559\n"
     ]
    }
   ],
   "source": [
    "#from scipy.stats import mode\n",
    "#determining the mode for each outlet_identifier\n",
    "#outlet_identifier_mode=data_df.pivot_table(values=\"Outlet_Size\",columns=\"Outlet_Identifier\",\n",
    "                                           #aggfunc=lambda x:mode(x))\n",
    "#print(outlet_identifier_mode)\n",
    "a=data_df[[\"Outlet_Size\",\"Outlet_Type\",\"Index\"]].groupby([\"Outlet_Type\",\"Outlet_Size\"]).count()\n",
    "print(a)"
   ]
  },
  {
   "cell_type": "code",
   "execution_count": 14,
   "metadata": {
    "collapsed": false
   },
   "outputs": [
    {
     "data": {
      "text/plain": [
       "'a=data_df[[\"Outlet_Size\",\"Outlet_Type\",\"Index\"]].groupby([\"Outlet_Type\",\"Outlet_Size\"]).count()                                                                        .nlargest(1,\"Index\")                                                                        \\n        \\nprint(a)\\nprint(a.index)\\nprint(a)\\nz=a.xs(\"Grocery Store\",axis=0,level=0)\\nprint(z)\\na=z.index\\nprint(a.shape)'"
      ]
     },
     "execution_count": 14,
     "metadata": {},
     "output_type": "execute_result"
    }
   ],
   "source": [
    "#determining mode for each outlet_type\n",
    "#outlet_size_mode = data_df.pivot_table(values='Outlet_Size', columns='Outlet_Type',\n",
    "                                    #aggfunc=(lambda x:mode(x).mode[0]))\n",
    "'''a=data_df[[\"Outlet_Size\",\"Outlet_Type\",\"Index\"]].groupby([\"Outlet_Type\",\"Outlet_Size\"]).count()\\\n",
    "                                                                        .nlargest(1,\"Index\")\\\n",
    "                                                                        \n",
    "        \n",
    "print(a)\n",
    "print(a.index)\n",
    "print(a)\n",
    "z=a.xs(\"Grocery Store\",axis=0,level=0)\n",
    "print(z)\n",
    "a=z.index\n",
    "print(a.shape)'''\n",
    "#print(outlet_size_mode)"
   ]
  },
  {
   "cell_type": "code",
   "execution_count": 15,
   "metadata": {
    "collapsed": false,
    "scrolled": true
   },
   "outputs": [
    {
     "name": "stdout",
     "output_type": "stream",
     "text": [
      "['Supermarket Type1' 'Supermarket Type2' 'Grocery Store'\n",
      " 'Supermarket Type3']\n",
      "{'Supermarket Type1': 'Small', 'Grocery Store': 'Small', 'Supermarket Type3': 'Medium', 'Supermarket Type2': 'Medium'}\n"
     ]
    }
   ],
   "source": [
    "#accessing the most frequent Outlet_Size for each Outlet_Type\n",
    "def extract_mode(colname):\n",
    "    z=a.xs(colname,axis=0,level=0)\n",
    "    v=z.sort_values(axis=0,by=\"Index\",ascending=False)\n",
    "    m=v.index\n",
    "    return(m[0])\n",
    "dict_mode={}\n",
    "Outlet_type=pd.unique(data_df[\"Outlet_Type\"])\n",
    "print(Outlet_type)\n",
    "l=Outlet_type.shape[0]\n",
    "for x in range(0,l):\n",
    "    mode=extract_mode(Outlet_type[x])\n",
    "    dict_mode[Outlet_type[x]]=mode\n",
    "print(dict_mode)\n",
    "    \n"
   ]
  },
  {
   "cell_type": "code",
   "execution_count": 16,
   "metadata": {
    "collapsed": false
   },
   "outputs": [
    {
     "name": "stdout",
     "output_type": "stream",
     "text": [
      "0\n"
     ]
    }
   ],
   "source": [
    "def fill1(x):\n",
    "    mkttype=x[\"Outlet_Type\"]\n",
    "    return dict_mode[mkttype]\n",
    "v=data_df[data_df[\"Outlet_Size\"].isnull()].apply(fill1,axis=1)\n",
    "data_df[\"Outlet_Size\"]=data_df[\"Outlet_Size\"].fillna(v)\n",
    "print(sum(data_df[\"Outlet_Size\"].isnull()))"
   ]
  },
  {
   "cell_type": "code",
   "execution_count": 17,
   "metadata": {
    "collapsed": false
   },
   "outputs": [
    {
     "name": "stdout",
     "output_type": "stream",
     "text": [
      "Outlet_Type\n",
      "Grocery Store         339.828500\n",
      "Supermarket Type1    2316.181148\n",
      "Supermarket Type2    1995.498739\n",
      "Supermarket Type3    3694.038558\n",
      "Name: Item_Outlet_Sales, dtype: float64\n"
     ]
    }
   ],
   "source": [
    "#feature engineering\n",
    "#checking if combining supermt type2 and supermkt type3 is reasonable or not\n",
    "table2=data_df.pivot_table(values=\"Item_Outlet_Sales\",columns=\"Outlet_Type\")\n",
    "print(table2)"
   ]
  },
  {
   "cell_type": "markdown",
   "metadata": {},
   "source": [
    "Since there is a significant difference in the mean values of both.So its better to keep them separated"
   ]
  },
  {
   "cell_type": "code",
   "execution_count": 18,
   "metadata": {
    "collapsed": false
   },
   "outputs": [
    {
     "name": "stdout",
     "output_type": "stream",
     "text": [
      "879\n"
     ]
    }
   ],
   "source": [
    "#modifying the item_visisbility\n",
    "zerov=(data_df[\"Item_Visibility\"]==0.000)\n",
    "print(sum(zerov))"
   ]
  },
  {
   "cell_type": "markdown",
   "metadata": {},
   "source": [
    "So initially there are 879 items with 0.0000 visibility"
   ]
  },
  {
   "cell_type": "code",
   "execution_count": 19,
   "metadata": {
    "collapsed": false
   },
   "outputs": [
    {
     "name": "stdout",
     "output_type": "stream",
     "text": [
      "(1559,)\n"
     ]
    }
   ],
   "source": [
    "table3=data_df.pivot_table(values=\"Item_Visibility\",columns=\"Item_Identifier\")\n",
    "print(table3.shape)"
   ]
  },
  {
   "cell_type": "code",
   "execution_count": 20,
   "metadata": {
    "collapsed": false
   },
   "outputs": [
    {
     "name": "stdout",
     "output_type": "stream",
     "text": [
      "0\n"
     ]
    }
   ],
   "source": [
    "data_df.loc[zerov,\"Item_Visibility\"]=data_df.loc[zerov,\"Item_Identifier\"].apply(lambda x:table3[x])\n",
    "print(sum(data_df[\"Item_Visibility\"]==0.000))\n",
    "#rmoved all the zero visibility values"
   ]
  },
  {
   "cell_type": "code",
   "execution_count": 21,
   "metadata": {
    "collapsed": false
   },
   "outputs": [
    {
     "name": "stdout",
     "output_type": "stream",
     "text": [
      "count    14204.000000\n",
      "mean         1.061884\n",
      "std          0.235907\n",
      "min          0.844563\n",
      "25%          0.925131\n",
      "50%          0.999070\n",
      "75%          1.042007\n",
      "max          3.010094\n",
      "Name: Item_Visibility_MeanRatio, dtype: float64\n"
     ]
    }
   ],
   "source": [
    "#Item_Visibility_Meanratio calculates the visibility of the item in a particular store.As some stores give \n",
    "#preferences to items accordingly.\n",
    "data_df['Item_Visibility_MeanRatio'] = data_df.apply(lambda x: x['Item_Visibility']/table3[x['Item_Identifier']], axis=1)\n",
    "print (data_df['Item_Visibility_MeanRatio'].describe())"
   ]
  },
  {
   "cell_type": "code",
   "execution_count": 22,
   "metadata": {
    "collapsed": false
   },
   "outputs": [
    {
     "name": "stdout",
     "output_type": "stream",
     "text": [
      "Food              10201\n",
      "Non_Consumable     2686\n",
      "Drinks             1317\n",
      "Name: Item_type_combined, dtype: int64\n"
     ]
    }
   ],
   "source": [
    "\n",
    "\n",
    "#broad category of item_Type\n",
    "data_df[\"Item_type_combined\"]=data_df[\"Item_Identifier\"].apply(lambda x:x[0:2])\n",
    "data_df[\"Item_type_combined\"]=data_df[\"Item_type_combined\"].map({\"FD\":\"Food\",\"NC\":\"Non_Consumable\",\n",
    "                                                                \"DR\":\"Drinks\"})\n",
    "print(data_df[\"Item_type_combined\"].value_counts())"
   ]
  },
  {
   "cell_type": "code",
   "execution_count": 23,
   "metadata": {
    "collapsed": false
   },
   "outputs": [
    {
     "name": "stdout",
     "output_type": "stream",
     "text": [
      "count    14204.000000\n",
      "mean        15.169319\n",
      "std          8.371664\n",
      "min          4.000000\n",
      "25%          9.000000\n",
      "50%         14.000000\n",
      "75%         26.000000\n",
      "max         28.000000\n",
      "Name: Outlet_years, dtype: float64\n"
     ]
    }
   ],
   "source": [
    "\n",
    "#years of operation of a store\n",
    "data_df[\"Outlet_years\"]=2013-data_df[\"Outlet_Establishment_Year\"]\n",
    "print(data_df[\"Outlet_years\"].describe())"
   ]
  },
  {
   "cell_type": "code",
   "execution_count": 24,
   "metadata": {
    "collapsed": false
   },
   "outputs": [
    {
     "name": "stdout",
     "output_type": "stream",
     "text": [
      "Low Fat    8485\n",
      "Regular    4824\n",
      "LF          522\n",
      "reg         195\n",
      "low fat     178\n",
      "Name: Item_Fat_Content, dtype: int64\n",
      "Low Fat    9185\n",
      "Regular    5019\n",
      "Name: Item_Fat_Content, dtype: int64\n"
     ]
    }
   ],
   "source": [
    "#modifying the values in fat_categories\n",
    "print(data_df[\"Item_Fat_Content\"].value_counts())\n",
    "data_df[\"Item_Fat_Content\"]=data_df[\"Item_Fat_Content\"].replace({\"LF\":\"Low Fat\",\"reg\":\"Regular\",\"low fat\":\"Low Fat\"})\n",
    "print(data_df[\"Item_Fat_Content\"].value_counts())"
   ]
  },
  {
   "cell_type": "code",
   "execution_count": 25,
   "metadata": {
    "collapsed": false
   },
   "outputs": [
    {
     "name": "stdout",
     "output_type": "stream",
     "text": [
      "Low Fat       6499\n",
      "Regular       5019\n",
      "Non_Edible    2686\n",
      "Name: Item_Fat_Content, dtype: int64\n"
     ]
    }
   ],
   "source": [
    "#Non_consumable items cant have a fat_content.So in the category of Item_fat_content a separate category \n",
    "#should be there for non_consumables\n",
    "data_df.loc[data_df[\"Item_type_combined\"]==\"Non_Consumable\",\"Item_Fat_Content\"]=\"Non_Edible\"\n",
    "print(data_df[\"Item_Fat_Content\"].value_counts())"
   ]
  },
  {
   "cell_type": "code",
   "execution_count": 26,
   "metadata": {
    "collapsed": false
   },
   "outputs": [],
   "source": [
    "le=LabelEncoder()\n",
    "data_df[\"Outlet\"]=le.fit_transform(data_df[\"Outlet_Identifier\"])\n",
    "var=[\"Outlet\",\"Item_Fat_Content\",\"Item_type_combined\",\"Outlet_Type\",\"Outlet_Size\",\"Outlet_Location_Type\"]\n",
    "for i in var:\n",
    "    data_df[i]=le.fit_transform(data_df[i])\n"
   ]
  },
  {
   "cell_type": "code",
   "execution_count": 27,
   "metadata": {
    "collapsed": false,
    "scrolled": true
   },
   "outputs": [
    {
     "name": "stdout",
     "output_type": "stream",
     "text": [
      "   Item_Fat_Content Item_Identifier  Item_MRP  Item_Outlet_Sales  \\\n",
      "0                 0           FDA15  249.8092          3735.1380   \n",
      "1                 2           DRC01   48.2692           443.4228   \n",
      "2                 0           FDN15  141.6180          2097.2700   \n",
      "3                 2           FDX07  182.0950           732.3800   \n",
      "4                 1           NCD19   53.8614           994.7052   \n",
      "\n",
      "               Item_Type  Item_Visibility  Item_Weight  \\\n",
      "0                  Dairy         0.016047         9.30   \n",
      "1            Soft Drinks         0.019278         5.92   \n",
      "2                   Meat         0.016760        17.50   \n",
      "3  Fruits and Vegetables         0.017834        19.20   \n",
      "4              Household         0.009780         8.93   \n",
      "\n",
      "   Outlet_Establishment_Year Outlet_Identifier  Outlet_Location_Type  \\\n",
      "0                       1999            OUT049                     0   \n",
      "1                       2009            OUT018                     2   \n",
      "2                       1999            OUT049                     0   \n",
      "3                       1998            OUT010                     2   \n",
      "4                       1987            OUT013                     2   \n",
      "\n",
      "   Outlet_Size  Outlet_Type Source  Index  Item_Visibility_MeanRatio  \\\n",
      "0            1            1  train      0                   0.931078   \n",
      "1            1            2  train      1                   0.933420   \n",
      "2            1            1  train      2                   0.960069   \n",
      "3            2            0  train      3                   1.000000   \n",
      "4            0            1  train      4                   1.000000   \n",
      "\n",
      "   Item_type_combined  Outlet_years  Outlet  \n",
      "0                   1            14       9  \n",
      "1                   0             4       3  \n",
      "2                   1            14       9  \n",
      "3                   1            15       0  \n",
      "4                   2            26       1  \n"
     ]
    }
   ],
   "source": [
    "\n",
    "\n",
    "print(data_df.head(5))"
   ]
  },
  {
   "cell_type": "code",
   "execution_count": 28,
   "metadata": {
    "collapsed": false,
    "scrolled": true
   },
   "outputs": [
    {
     "name": "stdout",
     "output_type": "stream",
     "text": [
      "  Item_Identifier  Item_MRP  Item_Outlet_Sales              Item_Type  \\\n",
      "0           FDA15  249.8092          3735.1380                  Dairy   \n",
      "1           DRC01   48.2692           443.4228            Soft Drinks   \n",
      "2           FDN15  141.6180          2097.2700                   Meat   \n",
      "3           FDX07  182.0950           732.3800  Fruits and Vegetables   \n",
      "4           NCD19   53.8614           994.7052              Household   \n",
      "\n",
      "   Item_Visibility  Item_Weight  Outlet_Establishment_Year Outlet_Identifier  \\\n",
      "0         0.016047         9.30                       1999            OUT049   \n",
      "1         0.019278         5.92                       2009            OUT018   \n",
      "2         0.016760        17.50                       1999            OUT049   \n",
      "3         0.017834        19.20                       1998            OUT010   \n",
      "4         0.009780         8.93                       1987            OUT013   \n",
      "\n",
      "  Source  Index           ...            Outlet_Type_0  Outlet_Type_1  \\\n",
      "0  train      0           ...                      0.0            1.0   \n",
      "1  train      1           ...                      0.0            0.0   \n",
      "2  train      2           ...                      0.0            1.0   \n",
      "3  train      3           ...                      1.0            0.0   \n",
      "4  train      4           ...                      0.0            1.0   \n",
      "\n",
      "   Outlet_Type_2  Outlet_Type_3  Outlet_Size_0  Outlet_Size_1  Outlet_Size_2  \\\n",
      "0            0.0            0.0            0.0            1.0            0.0   \n",
      "1            1.0            0.0            0.0            1.0            0.0   \n",
      "2            0.0            0.0            0.0            1.0            0.0   \n",
      "3            0.0            0.0            0.0            0.0            1.0   \n",
      "4            0.0            0.0            1.0            0.0            0.0   \n",
      "\n",
      "   Outlet_Location_Type_0  Outlet_Location_Type_1  Outlet_Location_Type_2  \n",
      "0                     1.0                     0.0                     0.0  \n",
      "1                     0.0                     0.0                     1.0  \n",
      "2                     1.0                     0.0                     0.0  \n",
      "3                     0.0                     0.0                     1.0  \n",
      "4                     0.0                     0.0                     1.0  \n",
      "\n",
      "[5 rows x 38 columns]\n",
      "Item_Identifier               object\n",
      "Item_MRP                     float64\n",
      "Item_Outlet_Sales            float64\n",
      "Item_Type                     object\n",
      "Item_Visibility              float64\n",
      "Item_Weight                  float64\n",
      "Outlet_Establishment_Year      int64\n",
      "Outlet_Identifier             object\n",
      "Source                        object\n",
      "Index                          int64\n",
      "Item_Visibility_MeanRatio    float64\n",
      "Outlet_years                   int64\n",
      "Outlet_0                     float64\n",
      "Outlet_1                     float64\n",
      "Outlet_2                     float64\n",
      "Outlet_3                     float64\n",
      "Outlet_4                     float64\n",
      "Outlet_5                     float64\n",
      "Outlet_6                     float64\n",
      "Outlet_7                     float64\n",
      "Outlet_8                     float64\n",
      "Outlet_9                     float64\n",
      "Item_Fat_Content_0           float64\n",
      "Item_Fat_Content_1           float64\n",
      "Item_Fat_Content_2           float64\n",
      "Item_type_combined_0         float64\n",
      "Item_type_combined_1         float64\n",
      "Item_type_combined_2         float64\n",
      "Outlet_Type_0                float64\n",
      "Outlet_Type_1                float64\n",
      "Outlet_Type_2                float64\n",
      "Outlet_Type_3                float64\n",
      "Outlet_Size_0                float64\n",
      "Outlet_Size_1                float64\n",
      "Outlet_Size_2                float64\n",
      "Outlet_Location_Type_0       float64\n",
      "Outlet_Location_Type_1       float64\n",
      "Outlet_Location_Type_2       float64\n",
      "dtype: object\n"
     ]
    }
   ],
   "source": [
    "\n",
    "\n",
    "#one-hot-encoding\n",
    "data_df=pd.get_dummies(data_df,columns=var)\n",
    "print(data_df.head(5))\n",
    "print(data_df.dtypes)"
   ]
  },
  {
   "cell_type": "code",
   "execution_count": 29,
   "metadata": {
    "collapsed": false
   },
   "outputs": [
    {
     "name": "stderr",
     "output_type": "stream",
     "text": [
      "/home/ajita/anaconda3/lib/python3.5/site-packages/ipykernel/__main__.py:8: SettingWithCopyWarning: \n",
      "A value is trying to be set on a copy of a slice from a DataFrame\n",
      "\n",
      "See the caveats in the documentation: http://pandas.pydata.org/pandas-docs/stable/indexing.html#indexing-view-versus-copy\n",
      "/home/ajita/anaconda3/lib/python3.5/site-packages/ipykernel/__main__.py:9: SettingWithCopyWarning: \n",
      "A value is trying to be set on a copy of a slice from a DataFrame\n",
      "\n",
      "See the caveats in the documentation: http://pandas.pydata.org/pandas-docs/stable/indexing.html#indexing-view-versus-copy\n"
     ]
    }
   ],
   "source": [
    "#drop the unecessary columns\n",
    "data_df.drop([\"Item_Type\",\"Outlet_Establishment_Year\"],axis=1,inplace=True)\n",
    "#divide them back into train and test\n",
    "train_df=data_df.loc[data_df[\"Source\"]==\"train\"]\n",
    "test_df=data_df.loc[data_df[\"Source\"]==\"test\"]\n",
    "\n",
    "#removing unecessary columns in both dtypes\n",
    "train_df.drop([\"Source\",\"Index\"],axis=1,inplace=True)\n",
    "test_df.drop([\"Source\",\"Item_Outlet_Sales\",\"Index\"],axis=1,inplace=True)\n",
    "\n",
    "train_df.to_csv(\"train_modified\",index=False)\n",
    "test_df.to_csv(\"test_modified\",index=False)"
   ]
  },
  {
   "cell_type": "code",
   "execution_count": 30,
   "metadata": {
    "collapsed": false,
    "scrolled": false
   },
   "outputs": [
    {
     "name": "stdout",
     "output_type": "stream",
     "text": [
      "     Item_Identifier Outlet_Identifier  Item_Outlet_Sales\n",
      "8523           FDW58            OUT049        2181.288914\n",
      "8524           FDW14            OUT017        2181.288914\n",
      "8525           NCN55            OUT010        2181.288914\n",
      "8526           FDQ58            OUT017        2181.288914\n",
      "8527           FDY38            OUT027        2181.288914\n",
      "8528           FDH56            OUT046        2181.288914\n",
      "8529           FDL48            OUT018        2181.288914\n",
      "8530           FDC48            OUT027        2181.288914\n",
      "8531           FDN33            OUT045        2181.288914\n",
      "8532           FDA36            OUT017        2181.288914\n"
     ]
    },
    {
     "name": "stderr",
     "output_type": "stream",
     "text": [
      "/home/ajita/anaconda3/lib/python3.5/site-packages/ipykernel/__main__.py:4: SettingWithCopyWarning: \n",
      "A value is trying to be set on a copy of a slice from a DataFrame.\n",
      "Try using .loc[row_indexer,col_indexer] = value instead\n",
      "\n",
      "See the caveats in the documentation: http://pandas.pydata.org/pandas-docs/stable/indexing.html#indexing-view-versus-copy\n"
     ]
    }
   ],
   "source": [
    "#baseline model\n",
    "mean_sales=train_df[\"Item_Outlet_Sales\"].mean()\n",
    "base1=test_df[[\"Item_Identifier\",\"Outlet_Identifier\"]]\n",
    "base1[\"Item_Outlet_Sales\"]=mean_sales\n",
    "print(base1.head(10))"
   ]
  },
  {
   "cell_type": "code",
   "execution_count": 31,
   "metadata": {
    "collapsed": false
   },
   "outputs": [],
   "source": [
    "from sklearn import model_selection,metrics\n",
    "target=[\"Item_Outlet_Sales\"]\n",
    "Idcol=[\"Item_Identifier\",\"Outlet_Identifier\"]\n",
    "def Kfold(model,dtrain,target,variables):\n",
    "    model.fit(dtrain[variables],dtrain[target])\n",
    "    predictions=model.predict(dtrain[variables])\n",
    "    error=metrics.mean_squared_error(dtrain[target],predictions)\n",
    "    print(\"the error on train set is {0}\".format(np.sqrt(np.abs(error))))\n",
    "    kf=KFold(dtrain.shape[0],n_folds=8)\n",
    "    error=[]\n",
    "    for train,test  in kf:\n",
    "        train_data=dtrain[variables].iloc[train,:]\n",
    "        test_data=dtrain[variables].iloc[test,:]\n",
    "        train_y=dtrain[target].iloc[train]\n",
    "        test_y=dtrain[target].iloc[test]\n",
    "        model.fit(train_data,train_y)\n",
    "        predictions=model.predict(test_data)\n",
    "        error.append(metrics.mean_squared_error(test_y,predictions))\n",
    "        error_val=np.mean(error)\n",
    "    print(\"cross_validation error is {0}\".format(np.sqrt(error_val)))   "
   ]
  },
  {
   "cell_type": "code",
   "execution_count": 32,
   "metadata": {
    "collapsed": false
   },
   "outputs": [
    {
     "name": "stdout",
     "output_type": "stream",
     "text": [
      "the error on train set is 1127.3778004641688\n",
      "cross_validation error is 1129.8551503540596\n"
     ]
    },
    {
     "data": {
      "text/plain": [
       "<matplotlib.axes._subplots.AxesSubplot at 0x7fcf7b47aa58>"
      ]
     },
     "execution_count": 32,
     "metadata": {},
     "output_type": "execute_result"
    },
    {
     "data": {
      "image/png": "[encoded data removed]",
      "text/plain": [
       "<matplotlib.figure.Figure at 0x7fcf780efe48>"
      ]
     },
     "metadata": {},
     "output_type": "display_data"
    }
   ],
   "source": [
    "#regression model\n",
    "from sklearn.linear_model import LinearRegression,Ridge,Lasso\n",
    "target=[\"Item_Outlet_Sales\"]\n",
    "Idcol=[\"Item_Identifier\",\"Outlet_Identifier\"]\n",
    "variables=[x for x in train_df.columns if x not in target+Idcol]\n",
    "model1=LinearRegression(normalize=True)\n",
    "Kfold(model1,train_df,target,variables)\n",
    "coefs=np.reshape(model1.coef_,(model1.coef_.shape[1],))\n",
    "coef1=pd.Series(coefs,variables).sort_values()\n",
    "coef1.plot(kind=\"bar\",title=\"Model_Coeficients\")"
   ]
  },
  {
   "cell_type": "code",
   "execution_count": 33,
   "metadata": {
    "collapsed": false
   },
   "outputs": [
    {
     "name": "stdout",
     "output_type": "stream",
     "text": [
      "the error on train set is 1128.6226696435676\n",
      "cross_validation error is 1131.0210502157695\n"
     ]
    },
    {
     "data": {
      "text/plain": [
       "<matplotlib.axes._subplots.AxesSubplot at 0x7fcf77a50be0>"
      ]
     },
     "execution_count": 33,
     "metadata": {},
     "output_type": "execute_result"
    },
    {
     "data": {
      "image/png": "[encoded data removed]",
      "text/plain": [
       "<matplotlib.figure.Figure at 0x7fcf77a3ea58>"
      ]
     },
     "metadata": {},
     "output_type": "display_data"
    }
   ],
   "source": [
    "from sklearn.linear_model import Ridge\n",
    "model2=Ridge(alpha=0.05,normalize=True)\n",
    "Kfold(model2,train_df,target,variables)\n",
    "coefs=np.reshape(model2.coef_,(model2.coef_.shape[1],))\n",
    "coef2=pd.Series(coefs,variables).sort_values()\n",
    "coef2.plot(kind=\"bar\",title=\"Model_Coeficients\")"
   ]
  },
  {
   "cell_type": "code",
   "execution_count": 34,
   "metadata": {
    "collapsed": false,
    "scrolled": true
   },
   "outputs": [
    {
     "name": "stdout",
     "output_type": "stream",
     "text": [
      "the error on train set is 1061.4955093978722\n",
      "cross_validation error is 1094.3695765127927\n",
      "\n",
      "Outlet_Location_Type_2 : 0.0\n",
      "Outlet_4 : 0.0\n",
      "Item_type_combined_2 : 0.0\n",
      "Outlet_0 : 0.0\n",
      "Outlet_Type_3 : 0.0211685707354\n",
      "Outlet_Size_0 : 0.0\n",
      "Item_Fat_Content_0 : 0.0\n",
      "Item_Fat_Content_2 : 0.0\n",
      "Outlet_Type_0 : 0.315517421485\n",
      "Outlet_Size_2 : 0.0\n",
      "Outlet_Size_1 : 0.000381768675249\n",
      "Item_Visibility : 0.00405673321115\n",
      "Outlet_1 : 0.0\n",
      "Outlet_3 : 0.0\n",
      "Outlet_9 : 0.0\n",
      "Item_Fat_Content_1 : 0.0\n",
      "Item_Weight : 0.00214967462918\n",
      "Item_Visibility_MeanRatio : 0.000227843829231\n",
      "Outlet_5 : 0.0982020408423\n",
      "Outlet_7 : 0.0\n",
      "Item_MRP : 0.551570109608\n",
      "Item_type_combined_1 : 0.0\n",
      "Outlet_Location_Type_1 : 0.0\n",
      "Item_type_combined_0 : 0.0\n",
      "Outlet_Type_1 : 0.0\n",
      "Outlet_years : 0.00588518538781\n",
      "Outlet_6 : 0.0\n",
      "Outlet_8 : 0.0\n",
      "Outlet_2 : 0.0\n",
      "Outlet_Location_Type_0 : 0.0\n",
      "Outlet_Type_2 : 0.000840651596674\n"
     ]
    }
   ],
   "source": [
    "from sklearn.tree import DecisionTreeRegressor\n",
    "#variables=[\"Item_Visibility\",\"Outlet_Type_0\",\"Item_Visibility_MeanRatio\",\"Outlet_5\",\"Outlet_Size_1\",\n",
    "          #\"Item_Weight\",\"Outlet_years\",\"Item_MRP\",\"Outlet_Type_3\",\"Outlet_Type_1\"]\n",
    "model3=DecisionTreeRegressor(max_depth=15,min_samples_leaf=120)\n",
    "Kfold(model3,train_df,target,variables)\n",
    "x=model3.feature_importances_\n",
    "v=zip(variables,x)\n",
    "q=dict(v)\n",
    "print()\n",
    "for keys in q.keys():\n",
    "    print(keys,\":\",q[keys])\n"
   ]
  },
  {
   "cell_type": "code",
   "execution_count": 35,
   "metadata": {
    "collapsed": false,
    "scrolled": true
   },
   "outputs": [
    {
     "name": "stdout",
     "output_type": "stream",
     "text": [
      "the error on train set is 1051.709477849802\n",
      "cross_validation error is 1086.448220816017\n",
      "\n",
      "Outlet_Location_Type_2 : 0.0001881274054\n",
      "Outlet_4 : 3.63322475304e-06\n",
      "Item_type_combined_2 : 4.37603852208e-05\n",
      "Outlet_0 : 3.01705201525e-06\n",
      "Outlet_Type_3 : 0.0431927849913\n",
      "Outlet_Size_0 : 6.24795373226e-05\n",
      "Item_Fat_Content_0 : 0.000293319480319\n",
      "Item_Fat_Content_2 : 0.000200999894736\n",
      "Outlet_Type_0 : 0.307445469505\n",
      "Outlet_Size_2 : 3.25702816145e-05\n",
      "Outlet_Size_1 : 3.33966866965e-05\n",
      "Item_Visibility : 0.0092684906437\n",
      "Outlet_1 : 7.50369654664e-06\n",
      "Outlet_3 : 0.000593790281774\n",
      "Outlet_9 : 4.16013562429e-05\n",
      "Item_Fat_Content_1 : 0.000181992161711\n",
      "Item_Weight : 0.00221720334314\n",
      "Item_Visibility_MeanRatio : 0.00342096627815\n",
      "Outlet_5 : 0.0394504643694\n",
      "Outlet_7 : 5.31922256249e-05\n",
      "Item_MRP : 0.551056590497\n",
      "Item_type_combined_1 : 0.000287092610188\n",
      "Outlet_Location_Type_1 : 3.4116595525e-05\n",
      "Item_type_combined_0 : 0.000251253001547\n",
      "Outlet_Type_1 : 0.00112926340632\n",
      "Outlet_years : 0.0397935409932\n",
      "Outlet_6 : 0.000100090535431\n",
      "Outlet_8 : 6.09425041954e-05\n",
      "Outlet_2 : 0.000185877270383\n",
      "Outlet_Location_Type_0 : 3.80930414047e-05\n",
      "Outlet_Type_2 : 0.000328376744147\n"
     ]
    },
    {
     "data": {
      "text/plain": [
       "'n_estimators=[x for x in range(100,2000,100)]\\nmax_depth=[x for x in range(5,100,5)]\\nmin_samples_split=[2,5,8,10]\\nmax_features=[\\'auto\\',\\'sqrt\\']\\nmin_samples_leaf=[1,2,5]\\nrandom_grid={\\'n_estimators\\':n_estimators,\\'max_depth\\':max_depth,\\'min_samples_split\\':min_samples_split,\\n            \\'max_features\\':max_features,\\'min_samples_leaf\\':min_samples_leaf}\\nmodel4=RandomForestRegressor()\\n#apply on 5fold and 100 diff random combinations of parameters\\nmodel4_random = RandomizedSearchCV(estimator = model4, param_distributions = random_grid, n_iter = 20, \\n                              cv = 5,n_jobs = -1)\\n#fit the random model\\ntarget=\"Item_Outlet_Sales\"\\nmodel4_random.fit(train_df[variables],train_df[target])\\nprint(model4.best_params_)'"
      ]
     },
     "execution_count": 35,
     "metadata": {},
     "output_type": "execute_result"
    }
   ],
   "source": [
    "from sklearn.ensemble import RandomForestRegressor\n",
    "from sklearn.model_selection import RandomizedSearchCV\n",
    "model4=RandomForestRegressor(max_depth=6,n_estimators=100,min_samples_split=5)\n",
    "target='Item_Outlet_Sales'\n",
    "Kfold(model4,train_df,target,variables)\n",
    "x=model4.feature_importances_\n",
    "q=zip(variables,x)\n",
    "v=dict(q)\n",
    "print()\n",
    "for keys in v.keys():\n",
    "    print(keys,\":\",v[keys])\n",
    "'''n_estimators=[x for x in range(100,2000,100)]\n",
    "max_depth=[x for x in range(5,100,5)]\n",
    "min_samples_split=[2,5,8,10]\n",
    "max_features=['auto','sqrt']\n",
    "min_samples_leaf=[1,2,5]\n",
    "random_grid={'n_estimators':n_estimators,'max_depth':max_depth,'min_samples_split':min_samples_split,\n",
    "            'max_features':max_features,'min_samples_leaf':min_samples_leaf}\n",
    "model4=RandomForestRegressor()\n",
    "#apply on 5fold and 100 diff random combinations of parameters\n",
    "model4_random = RandomizedSearchCV(estimator = model4, param_distributions = random_grid, n_iter = 20, \n",
    "                              cv = 5,n_jobs = -1)\n",
    "#fit the random model\n",
    "target=\"Item_Outlet_Sales\"\n",
    "model4_random.fit(train_df[variables],train_df[target])\n",
    "print(model4.best_params_)'''\n"
   ]
  },
  {
   "cell_type": "code",
   "execution_count": 36,
   "metadata": {
    "collapsed": false
   },
   "outputs": [
    {
     "name": "stdout",
     "output_type": "stream",
     "text": [
      "the error on train set is 1032.1636993993654\n",
      "cross_validation error is 1098.3289020153527\n"
     ]
    }
   ],
   "source": [
    "from sklearn.ensemble import AdaBoostRegressor\n",
    "model5=AdaBoostRegressor(n_estimators=30,base_estimator=model3,learning_rate=0.25)\n",
    "Kfold(model5,train_df,target,variables)\n",
    "\n"
   ]
  },
  {
   "cell_type": "code",
   "execution_count": 37,
   "metadata": {
    "collapsed": false
   },
   "outputs": [
    {
     "name": "stdout",
     "output_type": "stream",
     "text": [
      "the error on train set is 1041.1277067523974\n",
      "cross_validation error is 1088.121077245158\n"
     ]
    }
   ],
   "source": [
    "from sklearn.ensemble import GradientBoostingRegressor\n",
    "model6=GradientBoostingRegressor(learning_rate=0.25,max_depth=2.0)\n",
    "Kfold(model6,train_df,target,variables)"
   ]
  },
  {
   "cell_type": "code",
   "execution_count": 38,
   "metadata": {
    "collapsed": false
   },
   "outputs": [
    {
     "name": "stdout",
     "output_type": "stream",
     "text": [
      "{'n_estimators': 25}\n",
      "-1172795.44311\n"
     ]
    }
   ],
   "source": [
    "from sklearn.model_selection import GridSearchCV\n",
    "params={'n_estimators':range(20,81,5)}\n",
    "model8_random=GridSearchCV(estimator=model6,param_grid=params,cv=5,scoring='neg_mean_squared_error')\n",
    "target=\"Item_Outlet_Sales\"\n",
    "model8_random.fit(train_df[variables],train_df[target])\n",
    "print(model8_random.best_params_)\n",
    "print(model8_random.best_score_)"
   ]
  },
  {
   "cell_type": "code",
   "execution_count": 39,
   "metadata": {
    "collapsed": false
   },
   "outputs": [
    {
     "name": "stdout",
     "output_type": "stream",
     "text": [
      "the error on train set is 1066.7126967621837\n",
      "cross_validation error is 1081.4010114106381\n"
     ]
    }
   ],
   "source": [
    "model7F=GradientBoostingRegressor(max_depth=2.0,n_estimators=25,learning_rate=0.25)\n",
    "Kfold(model7F,train_df,target,variables)"
   ]
  },
  {
   "cell_type": "code",
   "execution_count": 40,
   "metadata": {
    "collapsed": false
   },
   "outputs": [],
   "source": [
    "model7_3=GradientBoostingRegressor(n_estimators=25,learning_rate=0.25)\n",
    "#Kfold(model7_3,train_df,target,variables)"
   ]
  },
  {
   "cell_type": "code",
   "execution_count": 41,
   "metadata": {
    "collapsed": false,
    "scrolled": true
   },
   "outputs": [
    {
     "name": "stdout",
     "output_type": "stream",
     "text": [
      "{'min_samples_split': 50, 'max_depth': 2}\n",
      "-1172744.24941\n"
     ]
    }
   ],
   "source": [
    "params={'max_depth':range(2,15,2),'min_samples_split':range(10,100,10)}\n",
    "model7_3random=GridSearchCV(estimator=model7_3,param_grid=params,cv=5,scoring='neg_mean_squared_error')\n",
    "model7_3random.fit(train_df[variables],train_df[target])\n",
    "print(model7_3random.best_params_)\n",
    "print(model7_3random.best_score_)"
   ]
  },
  {
   "cell_type": "code",
   "execution_count": 42,
   "metadata": {
    "collapsed": false
   },
   "outputs": [
    {
     "name": "stdout",
     "output_type": "stream",
     "text": [
      "the error on train set is 1066.7126967621837\n",
      "cross_validation error is 1081.401011410638\n"
     ]
    }
   ],
   "source": [
    "model7_3F=GradientBoostingRegressor(n_estimators=25,learning_rate=0.25,max_depth=2,min_samples_split=40)\n",
    "Kfold(model7_3F,train_df,target,variables)"
   ]
  },
  {
   "cell_type": "code",
   "execution_count": 43,
   "metadata": {
    "collapsed": false,
    "scrolled": true
   },
   "outputs": [
    {
     "data": {
      "text/plain": [
       "<matplotlib.axes._subplots.AxesSubplot at 0x7fcf77950940>"
      ]
     },
     "execution_count": 43,
     "metadata": {},
     "output_type": "execute_result"
    },
    {
     "data": {
      "image/png": "[encoded data removed]",
      "text/plain": [
       "<matplotlib.figure.Figure at 0x7fcf77ff7400>"
      ]
     },
     "metadata": {},
     "output_type": "display_data"
    }
   ],
   "source": [
    "x=model7_3F.feature_importances_\n",
    "coef1=pd.Series(x,variables).sort_values()\n",
    "coef1.plot(kind=\"bar\",title=\"Model_Coeficients\")"
   ]
  },
  {
   "cell_type": "code",
   "execution_count": 44,
   "metadata": {
    "collapsed": false
   },
   "outputs": [
    {
     "name": "stdout",
     "output_type": "stream",
     "text": [
      "the error on train set is 1066.812908181261\n",
      "cross_validation error is 1080.7519270834816\n"
     ]
    }
   ],
   "source": [
    "variables1=[\"Item_MRP\",\"Outlet_Type_0\",\"Outlet_Type_3\",\"Outlet_5\",\"Item_Visibility_MeanRatio\",\"Outlet_Type_1\",\n",
    "          \"Item_Visibility\",\"Item_Weight\",\"Outlet_years\",\"Outlet_7\"]\n",
    "model7_4F=GradientBoostingRegressor(n_estimators=25,learning_rate=0.25,max_depth=2,min_samples_split=40)\n",
    "Kfold(model7_4F,train_df,target,variables1)"
   ]
  },
  {
   "cell_type": "code",
   "execution_count": 45,
   "metadata": {
    "collapsed": false
   },
   "outputs": [
    {
     "name": "stdout",
     "output_type": "stream",
     "text": [
      "{'subsample': 0.95}\n",
      "-1173016.31422\n"
     ]
    }
   ],
   "source": [
    "params={'subsample':[x/100 for x in range(40,100,5)]}\n",
    "model7_5random=GridSearchCV(estimator=model7_4F,param_grid=params,cv=5,scoring='neg_mean_squared_error')\n",
    "model7_5random.fit(train_df[variables1],train_df[target])\n",
    "print(model7_5random.best_params_)\n",
    "print(model7_5random.best_score_)"
   ]
  },
  {
   "cell_type": "code",
   "execution_count": 46,
   "metadata": {
    "collapsed": false
   },
   "outputs": [
    {
     "name": "stdout",
     "output_type": "stream",
     "text": [
      "the error on train set is 1066.812908181261\n",
      "cross_validation error is 1080.7519270834816\n"
     ]
    }
   ],
   "source": [
    "model7_5F=GradientBoostingRegressor(n_estimators=25,learning_rate=0.25,max_depth=2,min_samples_split=40,\n",
    "                                   subsample=1.0)\n",
    "Kfold(model7_5F,train_df,target,variables1)"
   ]
  },
  {
   "cell_type": "code",
   "execution_count": 47,
   "metadata": {
    "collapsed": false
   },
   "outputs": [
    {
     "name": "stdout",
     "output_type": "stream",
     "text": [
      "0.609145521332\n",
      "[ 1657.64700902  1299.47029597   720.04602538 ...,  1858.18156305\n",
      "  3507.68625156  1284.10353974]\n"
     ]
    }
   ],
   "source": [
    "model7_5F.fit(train_df[variables1],train_df[target])\n",
    "print(model7_5F.score(train_df[variables1],train_df[target]))\n",
    "y_test=model7_5F.predict(test_df[variables1])\n",
    "print(y_test)"
   ]
  },
  {
   "cell_type": "code",
   "execution_count": 48,
   "metadata": {
    "collapsed": false
   },
   "outputs": [
    {
     "name": "stdout",
     "output_type": "stream",
     "text": [
      "     Item_Identifier Outlet_Identifier  Item_Outlet_Sales\n",
      "8523           FDW58            OUT049        1657.647009\n",
      "8524           FDW14            OUT017        1299.470296\n",
      "8525           NCN55            OUT010         720.046025\n",
      "8526           FDQ58            OUT017        2560.748883\n",
      "8527           FDY38            OUT027        5799.511458\n",
      "8528           FDH56            OUT046        1902.690834\n",
      "8529           FDL48            OUT018         561.903068\n",
      "8530           FDC48            OUT027        2324.235910\n",
      "8531           FDN33            OUT045        1515.936059\n",
      "8532           FDA36            OUT017        3167.983139\n",
      "(5681, 3)\n"
     ]
    }
   ],
   "source": [
    "final_data=test_df.loc[:,[\"Item_Identifier\",\"Outlet_Identifier\"]]\n",
    "final_data[\"Item_Outlet_Sales\"]=y_test\n",
    "print(final_data.head(10))\n",
    "print(final_data.shape)"
   ]
  },
  {
   "cell_type": "markdown",
   "metadata": {},
   "source": [
    "Changing the values of subsamples dont doesnt improve the cv_Error."
   ]
  },
  {
   "cell_type": "code",
   "execution_count": 49,
   "metadata": {
    "collapsed": true
   },
   "outputs": [],
   "source": [
    "import csv\n",
    "final_data.to_csv(\"final_soln.csv\",encoding=\"utf-8\")"
   ]
  },
  {
   "cell_type": "code",
   "execution_count": 62,
   "metadata": {
    "collapsed": false
   },
   "outputs": [
    {
     "name": "stdout",
     "output_type": "stream",
     "text": [
      "the error on train set is 948.7196463710067\n",
      "cross_validation error is 1100.2047687072243\n"
     ]
    }
   ],
   "source": [
    "import xgboost as xgb\n",
    "from xgboost.sklearn import XGBRegressor\n",
    "model7=XGBRegressor(max_depth=5,subsample=0.8,colsample_bytree=0.8,learning_rate=0.1,gamma=0)\n",
    "Kfold(model7,train_df,target,variables)"
   ]
  },
  {
   "cell_type": "code",
   "execution_count": 56,
   "metadata": {
    "collapsed": false
   },
   "outputs": [
    {
     "data": {
      "text/plain": [
       "'def modelfit(alg,train_df,target,variables,esr=50,useTraincv=True,cvfolds=5):\\n    if useTraincv:\\n        params=alg.get_xgb_params()\\n        xgbtrain=xgb.DMatrix(train_df[variables].values,train_df[target].values)\\n        xgbCV=xgb.cv(params,xgbtrain,num_boost_round=alg.get_params()[\\'n_estimators\\'],nfold=cvfolds,\\n                    metrics=\\'auc\\',early_stopping_rounds=esr)\\n        alg.set_params(n_estimators=xgbCV.shape[0])\\n        #fit the algorithm\\n    alg.fit(train_df[variables],train_df[target],metrics=\\'auc\\')\\n        #Predict training set:\\n    dtrain_predictions = alg.predict(train_df[variables])\\n    dtrain_predprob = alg.predict_proba(train_df[varaibles])[:,1]\\n    print(\"Acuuracy:\",metrics.accuracy_score(train_df[target],dtrain_predictions))\\n    feat_imp = pd.Series(alg.booster().get_fscore()).sort_values(ascending=False)\\n    feat_imp.plot(kind=\\'bar\\', title=\\'Feature Importances\\')\\n    plt.ylabel(\\'Feature Importance Score\\')'"
      ]
     },
     "execution_count": 56,
     "metadata": {},
     "output_type": "execute_result"
    }
   ],
   "source": [
    "from sklearn import metrics\n",
    "import pandas as pd\n",
    "'''def modelfit(alg,train_df,target,variables,esr=50,useTraincv=True,cvfolds=5):\n",
    "    if useTraincv:\n",
    "        params=alg.get_xgb_params()\n",
    "        xgbtrain=xgb.DMatrix(train_df[variables].values,train_df[target].values)\n",
    "        xgbCV=xgb.cv(params,xgbtrain,num_boost_round=alg.get_params()['n_estimators'],nfold=cvfolds,\n",
    "                    metrics='auc',early_stopping_rounds=esr)\n",
    "        alg.set_params(n_estimators=xgbCV.shape[0])\n",
    "        #fit the algorithm\n",
    "    alg.fit(train_df[variables],train_df[target],metrics='auc')\n",
    "        #Predict training set:\n",
    "    dtrain_predictions = alg.predict(train_df[variables])\n",
    "    dtrain_predprob = alg.predict_proba(train_df[varaibles])[:,1]\n",
    "    print(\"Acuuracy:\",metrics.accuracy_score(train_df[target],dtrain_predictions))\n",
    "    feat_imp = pd.Series(alg.booster().get_fscore()).sort_values(ascending=False)\n",
    "    feat_imp.plot(kind='bar', title='Feature Importances')\n",
    "    plt.ylabel('Feature Importance Score')'''\n",
    "    "
   ]
  },
  {
   "cell_type": "code",
   "execution_count": 59,
   "metadata": {
    "collapsed": false
   },
   "outputs": [
    {
     "name": "stdout",
     "output_type": "stream",
     "text": [
      "{'n_estimators': 100}\n",
      "-1218651.12573\n"
     ]
    }
   ],
   "source": [
    "params={'n_estimators':range(100,1000,100)}\n",
    "gsearch=GridSearchCV(estimator=model7,param_grid=params,cv=5,scoring='neg_mean_squared_error')\n",
    "gsearch.fit(train_df[variables],train_df[target])\n",
    "print(gsearch.best_params_)\n",
    "print(gsearch.best_score_)"
   ]
  },
  {
   "cell_type": "code",
   "execution_count": 61,
   "metadata": {
    "collapsed": false
   },
   "outputs": [
    {
     "name": "stdout",
     "output_type": "stream",
     "text": [
      "the error on train set is 948.7196463710067\n",
      "cross_validation error is 1100.2047687072243\n"
     ]
    }
   ],
   "source": [
    "model7_1F=XGBRegressor(max_depth=5,subsample=0.8,colsample_bytree=0.8,learning_rate=0.1,gamma=0,n_estimators=100)\n",
    "Kfold(model7_1F,train_df,target,variables)"
   ]
  },
  {
   "cell_type": "code",
   "execution_count": 65,
   "metadata": {
    "collapsed": false
   },
   "outputs": [
    {
     "name": "stdout",
     "output_type": "stream",
     "text": [
      "{'max_depth': 3}\n",
      "-1175621.08386\n"
     ]
    }
   ],
   "source": [
    "params1={'max_depth':range(3,10)}\n",
    "gsearch2=GridSearchCV(estimator=model7_1F,param_grid=params1,cv=5,scoring='neg_mean_squared_error')\n",
    "gsearch2.fit(train_df[variables],train_df[target])\n",
    "print(gsearch2.best_params_)\n",
    "print(gsearch2.best_score_)"
   ]
  },
  {
   "cell_type": "code",
   "execution_count": 64,
   "metadata": {
    "collapsed": false
   },
   "outputs": [
    {
     "name": "stdout",
     "output_type": "stream",
     "text": [
      "the error on train set is 1033.373289058798\n",
      "cross_validation error is 1083.0900676434715\n"
     ]
    }
   ],
   "source": [
    "model7_2F=XGBRegressor(max_depth=3,subsample=0.8,colsample_bytree=0.8,learning_rate=0.1,gamma=0,n_estimators=100)\n",
    "Kfold(model7_2F,train_df,target,variables)"
   ]
  },
  {
   "cell_type": "code",
   "execution_count": 68,
   "metadata": {
    "collapsed": false
   },
   "outputs": [
    {
     "name": "stdout",
     "output_type": "stream",
     "text": [
      "{'learning_rate': 0.06}\n",
      "-1188792.90149\n"
     ]
    }
   ],
   "source": [
    "params2={'learning_rate':[x/100 for x in range(1,50,5)]}\n",
    "gsearch3=GridSearchCV(estimator=model7,param_grid=params2,cv=5,scoring='neg_mean_squared_error')\n",
    "gsearch3.fit(train_df[variables],train_df[target])\n",
    "print(gsearch3.best_params_)\n",
    "print(gsearch3.best_score_)"
   ]
  },
  {
   "cell_type": "code",
   "execution_count": 69,
   "metadata": {
    "collapsed": false
   },
   "outputs": [
    {
     "name": "stdout",
     "output_type": "stream",
     "text": [
      "the error on train set is 1051.6307328343178\n",
      "cross_validation error is 1081.5598569702013\n"
     ]
    }
   ],
   "source": [
    "model7_3F=XGBRegressor(max_depth=3,subsample=0.8,colsample_bytree=0.8,learning_rate=0.06,gamma=0,\n",
    "                       n_estimators=100)\n",
    "Kfold(model7_3F,train_df,target,variables)"
   ]
  },
  {
   "cell_type": "code",
   "execution_count": 75,
   "metadata": {
    "collapsed": false,
    "scrolled": true
   },
   "outputs": [
    {
     "name": "stdout",
     "output_type": "stream",
     "text": [
      "{'colsample_bytree': 0.95, 'subsample': 0.9}\n",
      "-1168598.76367\n"
     ]
    }
   ],
   "source": [
    "params3={'subsample':[x/100 for x in range(50,100,5)],'colsample_bytree':[x/100 for x in range(50,100,5)]}\n",
    "gsearch4=GridSearchCV(estimator=model7_3F,param_grid=params3,cv=5,scoring='neg_mean_squared_error')\n",
    "gsearch4.fit(train_df[variables],train_df[target])\n",
    "print(gsearch4.best_params_)\n",
    "print(gsearch4.best_score_)"
   ]
  },
  {
   "cell_type": "code",
   "execution_count": 78,
   "metadata": {
    "collapsed": false
   },
   "outputs": [
    {
     "name": "stdout",
     "output_type": "stream",
     "text": [
      "the error on train set is 1051.412121509453\n",
      "cross_validation error is 1080.0328731669138\n"
     ]
    }
   ],
   "source": [
    "model7_4F=XGBRegressor(max_depth=3,subsample=0.7,colsample_bytree=0.8,learning_rate=0.06,gamma=0,\n",
    "                       n_estimators=100)\n",
    "Kfold(model7_4F,train_df,target,variables)"
   ]
  },
  {
   "cell_type": "code",
   "execution_count": 80,
   "metadata": {
    "collapsed": false
   },
   "outputs": [
    {
     "name": "stdout",
     "output_type": "stream",
     "text": [
      "[ 1587.7265625   1349.89941406   623.56274414 ...,  1814.12805176\n",
      "  3467.20385742  1253.39074707]\n",
      "     Item_Identifier Outlet_Identifier  Item_Outlet_Sales\n",
      "8523           FDW58            OUT049        1587.726562\n",
      "8524           FDW14            OUT017        1349.899414\n",
      "8525           NCN55            OUT010         623.562744\n",
      "8526           FDQ58            OUT017        2418.634277\n",
      "8527           FDY38            OUT027        5976.165039\n",
      "8528           FDH56            OUT046        1911.231689\n",
      "8529           FDL48            OUT018         604.204468\n",
      "8530           FDC48            OUT027        2044.534912\n",
      "8531           FDN33            OUT045        1512.952515\n",
      "8532           FDA36            OUT017        3165.084473\n",
      "(5681, 3)\n"
     ]
    }
   ],
   "source": [
    "y_test2=model7_4F.predict(test_df[variables])\n",
    "print(y_test2)\n",
    "final_data2=test_df.loc[:,[\"Item_Identifier\",\"Outlet_Identifier\"]]\n",
    "final_data2[\"Item_Outlet_Sales\"]=y_test2\n",
    "print(final_data2.head(10))\n",
    "print(final_data2.shape)\n",
    "final_data2.to_csv(\"final_soln2.csv\",encoding='utf-8')"
   ]
  },
  {
   "cell_type": "code",
   "execution_count": 74,
   "metadata": {
    "collapsed": false
   },
   "outputs": [
    {
     "name": "stdout",
     "output_type": "stream",
     "text": [
      "{'gamma': 0.0}\n",
      "-1169919.79632\n"
     ]
    }
   ],
   "source": [
    "params4={'gamma':[x/10 for x in range(0,5)]}\n",
    "gsearch5=GridSearchCV(estimator=model7_4F,param_grid=params4,cv=5,scoring='neg_mean_squared_error')\n",
    "gsearch5.fit(train_df[variables],train_df[target])\n",
    "print(gsearch5.best_params_)\n",
    "print(gsearch5.best_score_)"
   ]
  },
  {
   "cell_type": "code",
   "execution_count": 77,
   "metadata": {
    "collapsed": false
   },
   "outputs": [
    {
     "name": "stdout",
     "output_type": "stream",
     "text": [
      "the error on train set is 1050.551209612315\n",
      "cross_validation error is 1080.338572768384\n"
     ]
    }
   ],
   "source": [
    "model8_2F=XGBRegressor(max_depth=3,subsample=0.9,colsample_bytree=0.95,learning_rate=0.06,gamma=0,\n",
    "                       n_estimators=100)\n",
    "Kfold(model8_2F,train_df,target,variables)"
   ]
  },
  {
   "cell_type": "code",
   "execution_count": 81,
   "metadata": {
    "collapsed": false
   },
   "outputs": [
    {
     "name": "stdout",
     "output_type": "stream",
     "text": [
      "{'reg_alpha': 1}\n",
      "-1168382.65464\n"
     ]
    }
   ],
   "source": [
    "params5={'reg_alpha':[0.0001,0.001,0.01,0.1,1]}\n",
    "gsearch6=GridSearchCV(estimator=model8_2F,param_grid=params5,cv=5,scoring='neg_mean_squared_error')\n",
    "gsearch6.fit(train_df[variables],train_df[target])\n",
    "print(gsearch6.best_params_)\n",
    "print(gsearch6.best_score_)"
   ]
  },
  {
   "cell_type": "code",
   "execution_count": 82,
   "metadata": {
    "collapsed": false
   },
   "outputs": [
    {
     "name": "stdout",
     "output_type": "stream",
     "text": [
      "the error on train set is 1050.5520027994364\n",
      "cross_validation error is 1080.338304271907\n"
     ]
    }
   ],
   "source": [
    "model8_3F=XGBRegressor(max_depth=3,subsample=0.9,colsample_bytree=0.95,learning_rate=0.06,gamma=0,\n",
    "                       n_estimators=100,reg_alpha=1)\n",
    "Kfold(model8_3F,train_df,target,variables)"
   ]
  },
  {
   "cell_type": "code",
   "execution_count": 83,
   "metadata": {
    "collapsed": false
   },
   "outputs": [
    {
     "name": "stdout",
     "output_type": "stream",
     "text": [
      "the error on train set is 1733.4808197757286\n",
      "cross_validation error is 1736.5791392984274\n"
     ]
    }
   ],
   "source": [
    "from sklearn import svm\n",
    "model9=svm.SVR()\n",
    "Kfold(model9,train_df,target,variables)"
   ]
  },
  {
   "cell_type": "code",
   "execution_count": null,
   "metadata": {
    "collapsed": true
   },
   "outputs": [],
   "source": []
  }
 ],
 "metadata": {
  "anaconda-cloud": {},
  "kernelspec": {
   "display_name": "Python [conda root]",
   "language": "python",
   "name": "conda-root-py"
  },
  "language_info": {
   "codemirror_mode": {
    "name": "ipython",
    "version": 3
   },
   "file_extension": ".py",
   "mimetype": "text/x-python",
   "name": "python",
   "nbconvert_exporter": "python",
   "pygments_lexer": "ipython3",
   "version": "3.5.2"
  },
  "nbpresent": {
   "slides": {},
   "themes": {
    "default": "779cf5aa-d3c9-4e22-82ef-03d5d2f9dd6d",
    "theme": {}
   }
  }
 },
 "nbformat": 4,
 "nbformat_minor": 1
}
